{
  "nbformat": 4,
  "nbformat_minor": 0,
  "metadata": {
    "colab": {
      "name": "Metrices.ipynb",
      "provenance": [],
      "authorship_tag": "ABX9TyOYGuXvH9IvZOELmaaO4Al7",
      "include_colab_link": true
    },
    "kernelspec": {
      "name": "python3",
      "display_name": "Python 3"
    },
    "language_info": {
      "name": "python"
    }
  },
  "cells": [
    {
      "cell_type": "markdown",
      "metadata": {
        "id": "view-in-github",
        "colab_type": "text"
      },
      "source": [
        "<a href=\"https://colab.research.google.com/github/moni-roy/100DaysOfMLCode/blob/master/AAMLP/Metrices.ipynb\" target=\"_parent\"><img src=\"https://colab.research.google.com/assets/colab-badge.svg\" alt=\"Open In Colab\"/></a>"
      ]
    },
    {
      "cell_type": "markdown",
      "metadata": {
        "id": "kvCHmDInCm-S"
      },
      "source": [
        "# Metrics\n",
        "\n",
        "Implemention from: [Approaching (Almost) Any Machine Learning Problem](https://github.com/abhi1thakur/approachingalmost)\n",
        "\n",
        "## Confusion matrix\n",
        "\n",
        "Example from Scikit-Learn"
      ]
    },
    {
      "cell_type": "code",
      "metadata": {
        "colab": {
          "base_uri": "https://localhost:8080/",
          "height": 652
        },
        "id": "mbIJxmSdCWht",
        "outputId": "d3ef12d5-cbe9-4ca9-afa6-151eab10a764"
      },
      "source": [
        "import matplotlib.pyplot as plt\n",
        "import seaborn as sns\n",
        "from sklearn import metrics\n",
        "\n",
        "# some targets\n",
        "y_true = [0, 1, 2, 0, 1, 2, 0, 2, 2]\n",
        "\n",
        "# some predictions\n",
        "y_pred = [0, 2, 1, 0, 2, 1, 0, 0, 2]\n",
        "\n",
        "# get confusion matrix from sklearn\n",
        "cm = metrics.confusion_matrix(y_true, y_pred)\n",
        "\n",
        "# plot using matplotlib and seaborn\n",
        "plt.figure(figsize = (10, 10))\n",
        "cmap = sns.cubehelix_palette(50, hue = 0.05, rot = 0, light = 0.9, dark = 0, as_cmap = True)\n",
        "sns.set(font_scale = 2.5)\n",
        "sns.heatmap(cm, annot = True, cmap = cmap, cbar = False)\n",
        "plt.ylabel('Actual Labels', fontsize = 20)\n",
        "plt.xlabel('Predicated Labels', fontsize = 20)"
      ],
      "execution_count": 1,
      "outputs": [
        {
          "output_type": "execute_result",
          "data": {
            "text/plain": [
              "Text(0.5, 48.5, 'Predicated Labels')"
            ]
          },
          "metadata": {
            "tags": []
          },
          "execution_count": 1
        },
        {
          "output_type": "display_data",
          "data": {
            "image/png": "[encoded data removed]",
            "text/plain": [
              "<Figure size 720x720 with 1 Axes>"
            ]
          },
          "metadata": {
            "tags": [],
            "needs_background": "light"
          }
        }
      ]
    },
    {
      "cell_type": "markdown",
      "metadata": {
        "id": "B7l1-tH0Ew2L"
      },
      "source": [
        "## Presion at k or P@K\n",
        "Matrix from multi-label classification\n"
      ]
    },
    {
      "cell_type": "code",
      "metadata": {
        "id": "u49o1H9NEVmN"
      },
      "source": [
        "def pk(y_true, y_pred, k):\n",
        "  \"\"\"\n",
        "  This function calculates precision at k for a single sample\n",
        "  :param y_true: list of values, actual classes\n",
        "  :param y_pred: list of values, predicted classes\n",
        "  :return: precision at a given value k\n",
        "  \"\"\"\n",
        "  # if k is 0, return 0. We should never have this \n",
        "  # as k is always >= 1\n",
        "\n",
        "  if k == 0:\n",
        "    return 0\n",
        "  \n",
        "  # we are interested only in top-k predications\n",
        "  y_pred = y_pred[:k]\n",
        "\n",
        "  # convert predictions to set\n",
        "  pred_set = set(y_pred)\n",
        "\n",
        "  # convert actual values to set\n",
        "  true_set = set(y_true)\n",
        "\n",
        "  # find common values\n",
        "  common_values = pred_set.intersection(true_set)\n",
        "\n",
        "  return len(common_values) / len(y_pred[:k])"
      ],
      "execution_count": 2,
      "outputs": []
    },
    {
      "cell_type": "markdown",
      "metadata": {
        "id": "w-h31P1lGuYa"
      },
      "source": [
        "## Average precision at K or AP@K"
      ]
    },
    {
      "cell_type": "code",
      "metadata": {
        "id": "mdBlXzn-GmJV"
      },
      "source": [
        "def apk(y_true, y_pred, k):\n",
        "  \"\"\"\n",
        "  This function calculates average precision at k for a single sample\n",
        "  :param y_true: list of the values, actual classes'\n",
        "  :param y_pred: list of the values, predicted classes\n",
        "  :return: average precision at a given value k\n",
        "  \"\"\"\n",
        "\n",
        "  # initialize p@k list of values\n",
        "  pk_values = []\n",
        "\n",
        "  # loop over all k. from 1 to k + 1\n",
        "  for i in range(1, k + 1):\n",
        "    # calculate p@i and append to list\n",
        "    pk_values.append(pk(y_true, y_pred, i))\n",
        "\n",
        "  # if we have no values in the list, return 0\n",
        "  if len(pk_values) == 0:\n",
        "    return 0\n",
        "  \n",
        "  # else return the sum of the list over length of list\n",
        "  return sum(pk_values) / len(pk_values)"
      ],
      "execution_count": 3,
      "outputs": []
    },
    {
      "cell_type": "code",
      "metadata": {
        "colab": {
          "base_uri": "https://localhost:8080/"
        },
        "id": "ItTJsAfPH9dM",
        "outputId": "4af975d9-ffac-4a2b-b00e-ae4c718115de"
      },
      "source": [
        "y_true = [[1, 2, 3], [0, 2], [1], [2, 3], [1, 0], []]\n",
        "y_pred = [[0, 1, 2], [1], [0, 2, 3], [2, 3, 4, 0], [0, 1, 2], [0]]\n",
        "\n",
        "for i in range(len(y_true)):\n",
        "  for j in range(1, 4):\n",
        "    print(\n",
        "        f\"\"\"\n",
        "        y_true={y_true[i]}, \n",
        "        y_pred={y_pred[i]},\n",
        "        AP@{j}={apk(y_true[i], y_pred[i], k=j)}\n",
        "        \"\"\"\n",
        "        )"
      ],
      "execution_count": 4,
      "outputs": [
        {
          "output_type": "stream",
          "text": [
            "\n",
            "        y_true=[1, 2, 3], \n",
            "        y_pred=[0, 1, 2],\n",
            "        AP@1=0.0\n",
            "        \n",
            "\n",
            "        y_true=[1, 2, 3], \n",
            "        y_pred=[0, 1, 2],\n",
            "        AP@2=0.25\n",
            "        \n",
            "\n",
            "        y_true=[1, 2, 3], \n",
            "        y_pred=[0, 1, 2],\n",
            "        AP@3=0.38888888888888884\n",
            "        \n",
            "\n",
            "        y_true=[0, 2], \n",
            "        y_pred=[1],\n",
            "        AP@1=0.0\n",
            "        \n",
            "\n",
            "        y_true=[0, 2], \n",
            "        y_pred=[1],\n",
            "        AP@2=0.0\n",
            "        \n",
            "\n",
            "        y_true=[0, 2], \n",
            "        y_pred=[1],\n",
            "        AP@3=0.0\n",
            "        \n",
            "\n",
            "        y_true=[1], \n",
            "        y_pred=[0, 2, 3],\n",
            "        AP@1=0.0\n",
            "        \n",
            "\n",
            "        y_true=[1], \n",
            "        y_pred=[0, 2, 3],\n",
            "        AP@2=0.0\n",
            "        \n",
            "\n",
            "        y_true=[1], \n",
            "        y_pred=[0, 2, 3],\n",
            "        AP@3=0.0\n",
            "        \n",
            "\n",
            "        y_true=[2, 3], \n",
            "        y_pred=[2, 3, 4, 0],\n",
            "        AP@1=1.0\n",
            "        \n",
            "\n",
            "        y_true=[2, 3], \n",
            "        y_pred=[2, 3, 4, 0],\n",
            "        AP@2=1.0\n",
            "        \n",
            "\n",
            "        y_true=[2, 3], \n",
            "        y_pred=[2, 3, 4, 0],\n",
            "        AP@3=0.8888888888888888\n",
            "        \n",
            "\n",
            "        y_true=[1, 0], \n",
            "        y_pred=[0, 1, 2],\n",
            "        AP@1=1.0\n",
            "        \n",
            "\n",
            "        y_true=[1, 0], \n",
            "        y_pred=[0, 1, 2],\n",
            "        AP@2=1.0\n",
            "        \n",
            "\n",
            "        y_true=[1, 0], \n",
            "        y_pred=[0, 1, 2],\n",
            "        AP@3=0.8888888888888888\n",
            "        \n",
            "\n",
            "        y_true=[], \n",
            "        y_pred=[0],\n",
            "        AP@1=0.0\n",
            "        \n",
            "\n",
            "        y_true=[], \n",
            "        y_pred=[0],\n",
            "        AP@2=0.0\n",
            "        \n",
            "\n",
            "        y_true=[], \n",
            "        y_pred=[0],\n",
            "        AP@3=0.0\n",
            "        \n"
          ],
          "name": "stdout"
        }
      ]
    },
    {
      "cell_type": "markdown",
      "metadata": {
        "id": "Ytr2mxUKJZK1"
      },
      "source": [
        "## Mean average precision at k or MAP@K"
      ]
    },
    {
      "cell_type": "code",
      "metadata": {
        "id": "qu2irtDaJW4p"
      },
      "source": [
        "def mapk(y_true, y_pred, k):\n",
        "  \"\"\"\n",
        "  This function calculates mean average precision at k for a single sample\n",
        "  :param y_true: list of the values, actual classes\n",
        "  :param y_pred: list of the values, predicted classes\n",
        "  :return: mean average precision at a given value k\n",
        "  \"\"\"\n",
        "\n",
        "  # initialize empty list for apk values\n",
        "  apk_values = []\n",
        "\n",
        "  # loop over all samples\n",
        "  for i in range(len(y_true)):\n",
        "    apk_values.append(apk(y_true[i], y_pred[i], k=k))\n",
        "  \n",
        "  # return mean of apk values list\n",
        "  return sum(apk_values) / len(apk_values)"
      ],
      "execution_count": 5,
      "outputs": []
    },
    {
      "cell_type": "code",
      "metadata": {
        "colab": {
          "base_uri": "https://localhost:8080/"
        },
        "id": "hUAR6B47KW24",
        "outputId": "2076eda5-daae-4b64-e25b-bc188ef9e0e4"
      },
      "source": [
        "y_true = [[1, 2, 3], [0, 2], [1], [2, 3], [1, 0], []]\n",
        "y_pred = [[0, 1, 2], [1], [0, 2, 3], [2, 3, 4, 0], [0, 1, 2], [0]]\n",
        "\n",
        "print(mapk(y_true=y_true, y_pred=y_pred, k=1))\n",
        "print(mapk(y_true=y_true, y_pred=y_pred, k=2))\n",
        "print(mapk(y_true=y_true, y_pred=y_pred, k=3))\n",
        "print(mapk(y_true=y_true, y_pred=y_pred, k=4))"
      ],
      "execution_count": 6,
      "outputs": [
        {
          "output_type": "stream",
          "text": [
            "0.3333333333333333\n",
            "0.375\n",
            "0.3611111111111111\n",
            "0.34722222222222215\n"
          ],
          "name": "stdout"
        }
      ]
    },
    {
      "cell_type": "markdown",
      "metadata": {
        "id": "J-jYD85kLP9e"
      },
      "source": [
        "P@K, AP@K, and MAP@K all range from 0 to 1 with being the best\n",
        "\n",
        "## Mean absolute error (MAE)\n"
      ]
    },
    {
      "cell_type": "code",
      "metadata": {
        "id": "GbSw1pnWKmDm"
      },
      "source": [
        "import numpy as np\n",
        "\n",
        "def mean_absolute_error(y_true, y_pred):\n",
        "  \"\"\"\n",
        "  This function calculates mae\n",
        "  :param y_true: list of real numbers, true values\n",
        "  :param y_pred: list of real numbers, predicted values\n",
        "  \"\"\"\n",
        "\n",
        "  # initialize error at 0\n",
        "  error = 0\n",
        "  \n",
        "  # loop over all samples in the true and predicted list\n",
        "  for yt, yp in zip(y_true, y_pred):\n",
        "    # calculate absolute error and add to error\n",
        "    error += np.abs(yt-yp)\n",
        "  \n",
        "  # return mean error\n",
        "  return error / len(y_true)\n"
      ],
      "execution_count": 7,
      "outputs": []
    },
    {
      "cell_type": "code",
      "metadata": {
        "colab": {
          "base_uri": "https://localhost:8080/"
        },
        "id": "Snk77sJwbdAv",
        "outputId": "64f3a8d8-8f2f-4559-a2d5-118a20025248"
      },
      "source": [
        "y_true = [1, 2, 3, 1, 2, 3, 1, 2, 3]\n",
        "y_pred = [2, 1, 3, 1, 2, 3, 3, 1, 2]\n",
        "\n",
        "mean_absolute_error(y_true, y_pred)"
      ],
      "execution_count": 8,
      "outputs": [
        {
          "output_type": "execute_result",
          "data": {
            "text/plain": [
              "0.6666666666666666"
            ]
          },
          "metadata": {
            "tags": []
          },
          "execution_count": 8
        }
      ]
    },
    {
      "cell_type": "markdown",
      "metadata": {
        "id": "HbmsU6AbPSQT"
      },
      "source": [
        "## Mean squared error (MSE)\n"
      ]
    },
    {
      "cell_type": "code",
      "metadata": {
        "id": "fomtHUeuOqWr"
      },
      "source": [
        "def mean_squared_error(y_true, y_pred):\n",
        "  \"\"\"\n",
        "  This function calculates mse\n",
        "  :param y_true: list of real values, true values\n",
        "  :param y_pred: list of \n",
        "  \"\"\"\n",
        "  # initialize error at 0\n",
        "  error = 0\n",
        "\n",
        "  # loop over all samples in the true and predicated list\n",
        "  for yt, yp in zip(y_true, y_pred):\n",
        "    # calculate squared error and add to error\n",
        "    error += (yt - yp) ** 2\n",
        "\n",
        "  # return mean error\n",
        "  return error / len(y_true)"
      ],
      "execution_count": 9,
      "outputs": []
    },
    {
      "cell_type": "code",
      "metadata": {
        "colab": {
          "base_uri": "https://localhost:8080/"
        },
        "id": "eJUJUG7BbZJw",
        "outputId": "ffcb1029-fdaf-4c78-c20b-a2fc5559cb52"
      },
      "source": [
        "y_true = [1, 2, 3, 1, 2, 3, 1, 2, 3]\n",
        "y_pred = [2, 1, 3, 1, 2, 3, 3, 1, 2]\n",
        "\n",
        "mean_squared_error(y_true, y_pred)"
      ],
      "execution_count": 10,
      "outputs": [
        {
          "output_type": "execute_result",
          "data": {
            "text/plain": [
              "0.8888888888888888"
            ]
          },
          "metadata": {
            "tags": []
          },
          "execution_count": 10
        }
      ]
    },
    {
      "cell_type": "markdown",
      "metadata": {
        "id": "BDtmGyWVRCwr"
      },
      "source": [
        "## Mean squared logarithmic error (MSLE)\n"
      ]
    },
    {
      "cell_type": "code",
      "metadata": {
        "id": "WaOteOi8PeNl"
      },
      "source": [
        "import numpy as np\n",
        "\n",
        "def mean_squared_log_error(y_true, y_pred):\n",
        "  \"\"\"\n",
        "  This functio calculates msle\n",
        "  :param y_true: list of real numbers, true values\n",
        "  :param y_pred: list of real numbers, predicted values\n",
        "  :return: mean squared logarithmic error\n",
        "  \"\"\"\n",
        "\n",
        "  # initialize error at 0\n",
        "  error = 0\n",
        "\n",
        "  # loop over all samples in true and predicted list\n",
        "  for yt, yp in zip(y_true, y_pred):\n",
        "    # calculate squared log error and add to error\n",
        "    error += (np.log(1 + yt) - np.log(1 + yp)) ** 2\n",
        "\n",
        "  # return mean error\n",
        "  return error / len(y_true)"
      ],
      "execution_count": 11,
      "outputs": []
    },
    {
      "cell_type": "code",
      "metadata": {
        "colab": {
          "base_uri": "https://localhost:8080/"
        },
        "id": "LYcnb-MEbTHg",
        "outputId": "2968e713-fd5c-4126-ed1a-0b398f27b268"
      },
      "source": [
        "y_true = [1, 2, 3, 1, 2, 3, 1, 2, 3]\n",
        "y_pred = [2, 1, 3, 1, 2, 3, 3, 1, 2]\n",
        "\n",
        "mean_squared_log_error(y_true, y_pred)"
      ],
      "execution_count": 12,
      "outputs": [
        {
          "output_type": "execute_result",
          "data": {
            "text/plain": [
              "0.11737998337864997"
            ]
          },
          "metadata": {
            "tags": []
          },
          "execution_count": 12
        }
      ]
    },
    {
      "cell_type": "markdown",
      "metadata": {
        "id": "X6nNvJW-S-vu"
      },
      "source": [
        "## Mean percentage error (MPE)"
      ]
    },
    {
      "cell_type": "code",
      "metadata": {
        "id": "vLRMXfLkRRYz"
      },
      "source": [
        "def mean_percentage_error(y_true, y_pred):\n",
        "  \"\"\"\n",
        "  This function calculates mpe\n",
        "  :param y_true: list of real numbers, true values\n",
        "  :param y_pred: list of real numbers, predicted values\n",
        "  :return: mean percentage error\n",
        "  \"\"\"\n",
        "\n",
        "  # intialize error at 0\n",
        "  error = 0\n",
        "  \n",
        "  # loop over all samples in true and predicted list\n",
        "  for yt, yp in zip(y_true, y_pred):\n",
        "    # calculate percentage error and add to error\n",
        "    error += (yt - yp) / yt\n",
        "  \n",
        "  # return mean percentage error\n",
        "  return error / len(y_true)"
      ],
      "execution_count": 13,
      "outputs": []
    },
    {
      "cell_type": "code",
      "metadata": {
        "colab": {
          "base_uri": "https://localhost:8080/"
        },
        "id": "nd_y3wXPbMP8",
        "outputId": "ece82e47-d4cd-4d15-e8b6-b910d778944a"
      },
      "source": [
        "y_true = [1, 2, 3, 1, 2, 3, 1, 2, 3]\n",
        "y_pred = [2, 1, 3, 1, 2, 3, 3, 1, 2]\n",
        "\n",
        "mean_percentage_error(y_true, y_pred)"
      ],
      "execution_count": 14,
      "outputs": [
        {
          "output_type": "execute_result",
          "data": {
            "text/plain": [
              "-0.1851851851851852"
            ]
          },
          "metadata": {
            "tags": []
          },
          "execution_count": 14
        }
      ]
    },
    {
      "cell_type": "markdown",
      "metadata": {
        "id": "rhE1cstQTRC5"
      },
      "source": [
        "## Mean absolute percentage error (MAPE)"
      ]
    },
    {
      "cell_type": "code",
      "metadata": {
        "id": "YTHGQkgJTESe"
      },
      "source": [
        "import numpy as np\n",
        "\n",
        "def mean_absolute_percentage_error(y_true, y_pred):\n",
        "  \"\"\"\n",
        "  This function calculates mape\n",
        "  :param y_true: list of real numbers, true values\n",
        "  :param y_pred: list of real numbers, predicted values\n",
        "  :return: mean absolute percentage error\n",
        "  \"\"\"\n",
        "\n",
        "  # initialize error at 0\n",
        "  error = 0\n",
        "\n",
        "  # loop over all samples in true and predicted list\n",
        "  for yt, yp in zip(y_true, y_pred):\n",
        "    # calculate percentage error and add to error\n",
        "    error += np.abs(yt - yp) / yt\n",
        "\n",
        "  # return mean percentage error\n",
        "  return error / len(y_true)"
      ],
      "execution_count": 15,
      "outputs": []
    },
    {
      "cell_type": "code",
      "metadata": {
        "colab": {
          "base_uri": "https://localhost:8080/"
        },
        "id": "jDOXvwaWbGjH",
        "outputId": "a3b6fce0-d3b6-4fd9-ba42-e0ee72061001"
      },
      "source": [
        "y_true = [1, 2, 3, 1, 2, 3, 1, 2, 3]\n",
        "y_pred = [2, 1, 3, 1, 2, 3, 3, 1, 2]\n",
        "\n",
        "mean_absolute_percentage_error(y_true, y_pred)"
      ],
      "execution_count": 16,
      "outputs": [
        {
          "output_type": "execute_result",
          "data": {
            "text/plain": [
              "0.48148148148148145"
            ]
          },
          "metadata": {
            "tags": []
          },
          "execution_count": 16
        }
      ]
    },
    {
      "cell_type": "markdown",
      "metadata": {
        "id": "xdJcSJ0MUY0W"
      },
      "source": [
        "## R-squared (R^2)\n",
        "In simple words, R-squared says how good your model fits the data. R-squared\n",
        "closer to 1.0 says that the model fits the data quite well,"
      ]
    },
    {
      "cell_type": "code",
      "metadata": {
        "id": "vWdEXCksTh5i"
      },
      "source": [
        "import numpy as np\n",
        "\n",
        "def r2(y_true, y_pred):\n",
        "  \"\"\"\n",
        "  This function calculates r-squared error\n",
        "  :param y_true: list of real numbers, true values\n",
        "  :param y_pred: list of real numbsrs, predicted values\n",
        "  :return: r2 error\n",
        "  \"\"\"\n",
        "\n",
        "  # calculate the mean value of true values\n",
        "  mean_true_value = np.mean(y_true)\n",
        "\n",
        "  # initialize numerator and denominator with 0\n",
        "  numerator, denominator = 0, 0\n",
        "\n",
        "  # loop over all true and predicted values\n",
        "  for yt, yp in zip(y_true, y_pred):\n",
        "    # update numerator\n",
        "    numerator += (yt - yp) ** 2\n",
        "    # update denominator\n",
        "    denominator += (yt - mean_true_value) ** 2\n",
        "  \n",
        "  # calculate the ratio\n",
        "  ratio  = numerator / denominator\n",
        "\n",
        "  # return 1 - ratio\n",
        "  return 1 - ratio"
      ],
      "execution_count": 17,
      "outputs": []
    },
    {
      "cell_type": "code",
      "metadata": {
        "colab": {
          "base_uri": "https://localhost:8080/"
        },
        "id": "PiDDw3oVa-vF",
        "outputId": "1fc7bd2b-b21c-4301-d9df-b160d62bae18"
      },
      "source": [
        "y_true = [1, 2, 3, 1, 2, 3, 1, 2, 3]\n",
        "y_pred = [2, 1, 3, 1, 2, 3, 3, 1, 2]\n",
        "r2(y_true, y_pred)"
      ],
      "execution_count": 18,
      "outputs": [
        {
          "output_type": "execute_result",
          "data": {
            "text/plain": [
              "-0.33333333333333326"
            ]
          },
          "metadata": {
            "tags": []
          },
          "execution_count": 18
        }
      ]
    },
    {
      "cell_type": "markdown",
      "metadata": {
        "id": "iIjl4q9IWL5r"
      },
      "source": [
        "## Quadratic weighted kappa (QWK)\n",
        "\n",
        "One of them which is quite widely used is **quadratic weighted kappa**, also known\n",
        "as QWK. It is also known as **Cohen’s kappa**. QWK measures the “agreement”\n",
        "between two “ratings”. The ratings can be any real numbers in 0 to N. And\n",
        "predictions are also in the same range. An agreement can be defined as how close\n",
        "these ratings are to each other. So, it’s suitable for a classification problem with N\n",
        "different categories/classes. If the agreement is high, the score is closer towards 1.0.\n",
        "In the case of low agreement, the score is close to 0."
      ]
    },
    {
      "cell_type": "code",
      "metadata": {
        "colab": {
          "base_uri": "https://localhost:8080/"
        },
        "id": "khXsE4ibVsSS",
        "outputId": "b9804743-80b6-42d1-fa57-6536fef8c78a"
      },
      "source": [
        "from sklearn import metrics\n",
        "\n",
        "y_true = [1, 2, 3, 1, 2, 3, 1, 2, 3]\n",
        "y_pred = [2, 1, 3, 1, 2, 3, 3, 1, 2]\n",
        "\n",
        "qwk = metrics.cohen_kappa_score(y_true, y_pred, weights=\"quadratic\")\n",
        "acc = metrics.accuracy_score(y_true, y_pred)\n",
        "print(qwk, acc)"
      ],
      "execution_count": 19,
      "outputs": [
        {
          "output_type": "stream",
          "text": [
            "0.33333333333333337 0.4444444444444444\n"
          ],
          "name": "stdout"
        }
      ]
    },
    {
      "cell_type": "markdown",
      "metadata": {
        "id": "pL0GmF7tW9T2"
      },
      "source": [
        "## Matthew’s Correlation Coefficient (MCC)\n",
        "Matthew’s Correlation Coefficient (MCC). MCC ranges\n",
        "from -1 to 1. 1 is perfect prediction, -1 is imperfect prediction, and 0 is random prediction."
      ]
    },
    {
      "cell_type": "code",
      "metadata": {
        "id": "Fqbp_sXxYB9r"
      },
      "source": [
        "def true_positive(y_true, y_pred):\n",
        "  \"\"\"\n",
        "  Function to calculate True Positives\n",
        "  :param y_true: list of true values\n",
        "  :param y_pred: list of predicted values\n",
        "  :return: number of true positives\n",
        "  \"\"\"\n",
        "  # initialize\n",
        "  tp = 0\n",
        "  for yt, yp in zip(y_true, y_pred):\n",
        "    if yt == 1 and yp == 1:\n",
        "      tp += 1    \n",
        "  return tp\n",
        "\n",
        "def true_negative(y_true, y_pred):\n",
        "  \"\"\"\n",
        "  Function to calculate True Negatives\n",
        "  :param y_true: list of true values\n",
        "  :param y_pred: list of predicted values\n",
        "  :return: number of true negatives\n",
        "  \"\"\"\n",
        "  # initialize\n",
        "  tn = 0\n",
        "  for yt, yp in zip(y_true, y_pred):\n",
        "    if yt == 0 and yp == 0:\n",
        "      tn += 1\n",
        "  return tn\n",
        "\n",
        "\n",
        "def false_positive(y_true, y_pred):\n",
        "  \"\"\"\n",
        "  Function to calculate False Positives\n",
        "  :param y_true: list of true values\n",
        "  :param y_pred: list of predicted values\n",
        "  :return: number of false positives\n",
        "  \"\"\"\n",
        "  # initialize\n",
        "  fp = 0\n",
        "  for yt, yp in zip(y_true, y_pred):\n",
        "    if yt == 0 and yp == 1:\n",
        "      fp += 1\n",
        "  return fp\n",
        "\n",
        "def false_negative(y_true, y_pred):\n",
        "  \"\"\"\n",
        "  Function to calculate False Negatives\n",
        "  :param y_true: list of true values\n",
        "  :param y_pred: list of predicted values\n",
        "  :return: number of false negatives\n",
        "  \"\"\"\n",
        "  # initialize\n",
        "  fn = 0\n",
        "  for yt, yp in zip(y_true, y_pred):\n",
        "    if yt == 1 and yp == 0:\n",
        "      fn += 1\n",
        "  return fn"
      ],
      "execution_count": 20,
      "outputs": []
    },
    {
      "cell_type": "code",
      "metadata": {
        "id": "e82ehH6WW5aI"
      },
      "source": [
        "def mcc(y_true, y_pred):\n",
        "  \"\"\"\n",
        "  This function calculates MCC for binary classification\n",
        "  :param y_true: list of true values\n",
        "  :param y_pred: list of predicted values\n",
        "  :return: mcc score\n",
        "  \"\"\"\n",
        "\n",
        "  tp = true_positive(y_true, y_pred)\n",
        "  tn = true_negative(y_true, y_pred)\n",
        "  fp = false_positive(y_true, y_pred)\n",
        "  fn = false_negative(y_true, y_pred)\n",
        "  \n",
        "  numerator = (tp * tn) - (fp * fn)\n",
        "  denominator = ((tp + fp) * (fn + tn) * (fp + tn) * (tp + fn))\n",
        "  \n",
        "  denominator = denominator ** 0.5\n",
        "  return numerator / denominator"
      ],
      "execution_count": 21,
      "outputs": []
    },
    {
      "cell_type": "code",
      "metadata": {
        "colab": {
          "base_uri": "https://localhost:8080/"
        },
        "id": "muNS6ojUZm8L",
        "outputId": "0feca8b6-05a7-49f2-d9f6-86a79022a0a3"
      },
      "source": [
        "y_true = [1, 0, 1, 0, 1, 0, 1, 1, 1]\n",
        "y_pred = [1, 1, 1, 1, 0, 0, 0, 1, 1]\n",
        "\n",
        "print(mcc(y_true, y_pred))"
      ],
      "execution_count": 22,
      "outputs": [
        {
          "output_type": "stream",
          "text": [
            "0.0\n"
          ],
          "name": "stdout"
        }
      ]
    }
  ]
}