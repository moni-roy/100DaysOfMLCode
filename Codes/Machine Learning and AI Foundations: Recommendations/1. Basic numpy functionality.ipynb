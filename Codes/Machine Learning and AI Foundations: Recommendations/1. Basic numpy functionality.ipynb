{
 "cells": [
  {
   "cell_type": "code",
   "execution_count": 1,
   "metadata": {},
   "outputs": [
    {
     "name": "stdout",
     "output_type": "stream",
     "text": [
      "Updating rating 0\n",
      "Updating rating 1\n",
      "Updating rating 2\n",
      "Updating rating 3\n",
      "Updating rating 4\n",
      "Updating rating 5\n",
      "Updating rating 6\n",
      "Updating rating 7\n",
      "Updating rating 8\n",
      "Updating rating 9\n",
      "Updating rating 10\n",
      "Updating rating 11\n",
      "[10, 4, 6, 6, 8, 10, 10, 2, 10, 2, 6, 8]\n"
     ]
    }
   ],
   "source": [
    "ratings = [5, 2, 3, 3, 4, 5, 5, 1, 5, 1, 3, 4]\n",
    "\n",
    "for i, value in enumerate(ratings):\n",
    "    print(\"Updating rating {}\".format(i))\n",
    "    ratings[i] = value * 2\n",
    "\n",
    "print(ratings)"
   ]
  },
  {
   "cell_type": "code",
   "execution_count": 2,
   "metadata": {},
   "outputs": [
    {
     "name": "stdout",
     "output_type": "stream",
     "text": [
      "[10  4  6  6  8 10 10  2 10  2  6  8]\n"
     ]
    }
   ],
   "source": [
    "import numpy as np\n",
    "\n",
    "ratings = np.array([5, 2, 3, 3, 4, 5, 5, 1, 5, 1, 3, 4])\n",
    "\n",
    "ratings = ratings * 2\n",
    "print(ratings)"
   ]
  }
 ],
 "metadata": {
  "kernelspec": {
   "display_name": "Python 3",
   "language": "python",
   "name": "python3"
  },
  "language_info": {
   "codemirror_mode": {
    "name": "ipython",
    "version": 3
   },
   "file_extension": ".py",
   "mimetype": "text/x-python",
   "name": "python",
   "nbconvert_exporter": "python",
   "pygments_lexer": "ipython3",
   "version": "3.6.9"
  }
 },
 "nbformat": 4,
 "nbformat_minor": 4
}
